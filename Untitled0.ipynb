{
  "nbformat": 4,
  "nbformat_minor": 0,
  "metadata": {
    "colab": {
      "provenance": []
    },
    "kernelspec": {
      "name": "python3",
      "display_name": "Python 3"
    },
    "language_info": {
      "name": "python"
    }
  },
  "cells": [
    {
      "cell_type": "code",
      "execution_count": null,
      "metadata": {
        "id": "AjGq0B1IGpyd"
      },
      "outputs": [],
      "source": [
        "#email\n",
        "import re\n",
        "con=\"^[a-z]+[\\._]?[a-z 0-9]+[@]\\w+[.]\\w{2,3}$\"\n",
        "mail=input('enter ur mail : ')\n",
        "\n",
        "if re.search(con,mail):\n",
        "  print(\"correct\")\n",
        "else:\n",
        "  print(\"wrong\")"
      ]
    }
  ]
}